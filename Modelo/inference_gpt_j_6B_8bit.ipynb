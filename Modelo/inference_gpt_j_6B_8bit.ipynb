{
  "cells": [
    {
      "cell_type": "markdown",
      "source": [
        "[![Open In Colab](https://colab.research.google.com/assets/colab-badge.svg)](https://colab.research.google.com/github/Mario-Carmona/SARA_Chatbot/Modelo/inference_gpt_j_6B_8bit.ipynb)"
      ],
      "metadata": {
        "id": "mlk22Pcv8B7R"
      }
    },
    {
      "cell_type": "markdown",
      "source": [
        "# **Modelo**"
      ],
      "metadata": {
        "id": "4gVHCbqdT5fn"
      }
    },
    {
      "cell_type": "markdown",
      "source": [
        "## **Dependencias e Imports**"
      ],
      "metadata": {
        "id": "PzoP6zVbT_Lm"
      }
    },
    {
      "cell_type": "code",
      "source": [
        "%pip install transformers==4.14.1\n",
        "%pip install bitsandbytes-cuda111==0.26.0\n",
        "%pip install datasets==1.16.1\n",
        "\n",
        "import transformers\n",
        "\n",
        "import torch\n",
        "import torch.nn.functional as F\n",
        "from torch import nn\n",
        "from torch.cuda.amp import custom_fwd, custom_bwd\n",
        "\n",
        "from bitsandbytes.functional import quantize_blockwise, dequantize_blockwise\n",
        "\n",
        "from tqdm.auto import tqdm"
      ],
      "metadata": {
        "id": "1UbZEWLVOte7"
      },
      "execution_count": null,
      "outputs": []
    },
    {
      "cell_type": "markdown",
      "source": [
        "## **Convertir modelo a 8 bits**"
      ],
      "metadata": {
        "id": "npQu0JQ6UIqF"
      }
    },
    {
      "cell_type": "code",
      "execution_count": null,
      "metadata": {
        "id": "vfJScTSTO7TI"
      },
      "outputs": [],
      "source": [
        "class FrozenBNBLinear(nn.Module):\n",
        "    def __init__(self, weight, absmax, code, bias=None):\n",
        "        assert isinstance(bias, nn.Parameter) or bias is None\n",
        "        super().__init__()\n",
        "        self.out_features, self.in_features = weight.shape\n",
        "        self.register_buffer(\"weight\", weight.requires_grad_(False))\n",
        "        self.register_buffer(\"absmax\", absmax.requires_grad_(False))\n",
        "        self.register_buffer(\"code\", code.requires_grad_(False))\n",
        "        self.adapter = None\n",
        "        self.bias = bias\n",
        " \n",
        "    def forward(self, input):\n",
        "        output = DequantizeAndLinear.apply(input, self.weight, self.absmax, self.code, self.bias)\n",
        "        if self.adapter:\n",
        "            output += self.adapter(input)\n",
        "        return output\n",
        " \n",
        "    @classmethod\n",
        "    def from_linear(cls, linear: nn.Linear) -> \"FrozenBNBLinear\":\n",
        "        weights_int8, state = quantize_blockise_lowmemory(linear.weight)\n",
        "        return cls(weights_int8, *state, linear.bias)\n",
        " \n",
        "    def __repr__(self):\n",
        "        return f\"{self.__class__.__name__}({self.in_features}, {self.out_features})\"\n",
        " \n",
        " \n",
        "class DequantizeAndLinear(torch.autograd.Function): \n",
        "    @staticmethod\n",
        "    @custom_fwd\n",
        "    def forward(ctx, input: torch.Tensor, weights_quantized: torch.ByteTensor,\n",
        "                absmax: torch.FloatTensor, code: torch.FloatTensor, bias: torch.FloatTensor):\n",
        "        weights_deq = dequantize_blockwise(weights_quantized, absmax=absmax, code=code)\n",
        "        ctx.save_for_backward(input, weights_quantized, absmax, code)\n",
        "        ctx._has_bias = bias is not None\n",
        "        return F.linear(input, weights_deq, bias)\n",
        " \n",
        "    @staticmethod\n",
        "    @custom_bwd\n",
        "    def backward(ctx, grad_output: torch.Tensor):\n",
        "        assert not ctx.needs_input_grad[1] and not ctx.needs_input_grad[2] and not ctx.needs_input_grad[3]\n",
        "        input, weights_quantized, absmax, code = ctx.saved_tensors\n",
        "        # grad_output: [*batch, out_features]\n",
        "        weights_deq = dequantize_blockwise(weights_quantized, absmax=absmax, code=code)\n",
        "        grad_input = grad_output @ weights_deq\n",
        "        grad_bias = grad_output.flatten(0, -2).sum(dim=0) if ctx._has_bias else None\n",
        "        return grad_input, None, None, None, grad_bias\n",
        " \n",
        " \n",
        "class FrozenBNBEmbedding(nn.Module):\n",
        "    def __init__(self, weight, absmax, code):\n",
        "        super().__init__()\n",
        "        self.num_embeddings, self.embedding_dim = weight.shape\n",
        "        self.register_buffer(\"weight\", weight.requires_grad_(False))\n",
        "        self.register_buffer(\"absmax\", absmax.requires_grad_(False))\n",
        "        self.register_buffer(\"code\", code.requires_grad_(False))\n",
        "        self.adapter = None\n",
        " \n",
        "    def forward(self, input, **kwargs):\n",
        "        with torch.no_grad():\n",
        "            # note: both quantuized weights and input indices are *not* differentiable\n",
        "            weight_deq = dequantize_blockwise(self.weight, absmax=self.absmax, code=self.code)\n",
        "            output = F.embedding(input, weight_deq, **kwargs)\n",
        "        if self.adapter:\n",
        "            output += self.adapter(input)\n",
        "        return output \n",
        " \n",
        "    @classmethod\n",
        "    def from_embedding(cls, embedding: nn.Embedding) -> \"FrozenBNBEmbedding\":\n",
        "        weights_int8, state = quantize_blockise_lowmemory(embedding.weight)\n",
        "        return cls(weights_int8, *state)\n",
        " \n",
        "    def __repr__(self):\n",
        "        return f\"{self.__class__.__name__}({self.num_embeddings}, {self.embedding_dim})\"\n",
        " \n",
        " \n",
        "def quantize_blockise_lowmemory(matrix: torch.Tensor, chunk_size: int = 2 ** 20):\n",
        "    assert chunk_size % 4096 == 0\n",
        "    code = None\n",
        "    chunks = []\n",
        "    absmaxes = []\n",
        "    flat_tensor = matrix.view(-1)\n",
        "    for i in range((matrix.numel() - 1) // chunk_size + 1):\n",
        "        input_chunk = flat_tensor[i * chunk_size: (i + 1) * chunk_size].clone()\n",
        "        quantized_chunk, (absmax_chunk, code) = quantize_blockwise(input_chunk, code=code)\n",
        "        chunks.append(quantized_chunk)\n",
        "        absmaxes.append(absmax_chunk)\n",
        " \n",
        "    matrix_i8 = torch.cat(chunks).reshape_as(matrix)\n",
        "    absmax = torch.cat(absmaxes)\n",
        "    return matrix_i8, (absmax, code)\n",
        " \n",
        " \n",
        "def convert_to_int8(model):\n",
        "    \"\"\"Convert linear and embedding modules to 8-bit with optional adapters\"\"\"\n",
        "    for module in list(model.modules()):\n",
        "        for name, child in module.named_children():\n",
        "            if isinstance(child, nn.Linear):\n",
        "                print(name, child)\n",
        "                setattr( \n",
        "                    module,\n",
        "                    name,\n",
        "                    FrozenBNBLinear(\n",
        "                        weight=torch.zeros(child.out_features, child.in_features, dtype=torch.uint8),\n",
        "                        absmax=torch.zeros((child.weight.numel() - 1) // 4096 + 1),\n",
        "                        code=torch.zeros(256),\n",
        "                        bias=child.bias,\n",
        "                    ),\n",
        "                )\n",
        "            elif isinstance(child, nn.Embedding):\n",
        "                setattr(\n",
        "                    module,\n",
        "                    name,\n",
        "                    FrozenBNBEmbedding(\n",
        "                        weight=torch.zeros(child.num_embeddings, child.embedding_dim, dtype=torch.uint8),\n",
        "                        absmax=torch.zeros((child.weight.numel() - 1) // 4096 + 1),\n",
        "                        code=torch.zeros(256),\n",
        "                    )\n",
        "                )"
      ]
    },
    {
      "cell_type": "code",
      "execution_count": null,
      "metadata": {
        "id": "BOSZ-S1cDRq1"
      },
      "outputs": [],
      "source": [
        "class GPTJBlock(transformers.models.gptj.modeling_gptj.GPTJBlock):\n",
        "    def __init__(self, config):\n",
        "        super().__init__(config)\n",
        "\n",
        "        convert_to_int8(self.attn)\n",
        "        convert_to_int8(self.mlp)\n",
        "\n",
        "\n",
        "class GPTJModel(transformers.models.gptj.modeling_gptj.GPTJModel):\n",
        "    def __init__(self, config):\n",
        "        super().__init__(config)\n",
        "        convert_to_int8(self)\n",
        "        \n",
        "\n",
        "class GPTJForCausalLM(transformers.models.gptj.modeling_gptj.GPTJForCausalLM):\n",
        "    def __init__(self, config):\n",
        "        super().__init__(config)\n",
        "        convert_to_int8(self)\n",
        "\n",
        "\n",
        "transformers.models.gptj.modeling_gptj.GPTJBlock = GPTJBlock  # monkey-patch GPT-J"
      ]
    },
    {
      "cell_type": "markdown",
      "source": [
        "## **Definición de la clase Model**"
      ],
      "metadata": {
        "id": "WZRTkU2bUQ4D"
      }
    },
    {
      "cell_type": "code",
      "source": [
        "class Model:\n",
        "  def __init__(self, pretrained_model_name, tokenizer_model_name):\n",
        "    self.pretrained_model_name = pretrained_model_name\n",
        "    self.tokenizer_model_name = tokenizer_model_name\n",
        "\n",
        "    self.mount_model()\n",
        "\n",
        "  def mount_model(self):\n",
        "    self.config = transformers.GPTJConfig.from_pretrained(self.tokenizer_model_name)\n",
        "    self.tokenizer = transformers.AutoTokenizer.from_pretrained(self.tokenizer_model_name)\n",
        "\n",
        "    self.gpt = GPTJForCausalLM.from_pretrained(self.pretrained_model_name, low_cpu_mem_usage=True)\n",
        "\n",
        "    self.device = 'cuda' if torch.cuda.is_available() else 'cpu'\n",
        "    self.gpt.to(self.device)\n",
        "\n",
        "  def inference(self, question):\n",
        "    prompt = self.tokenizer(question, return_tensors='pt')\n",
        "    prompt = {key: value.to(self.device) for key, value in prompt.items()}\n",
        "    out = self.gpt.generate(**prompt, min_length=128, max_length=128, do_sample=True)\n",
        "    return self.tokenizer.decode(out[0])"
      ],
      "metadata": {
        "id": "tgIOSV1CPFz6"
      },
      "execution_count": null,
      "outputs": []
    },
    {
      "cell_type": "markdown",
      "source": [
        "# **Servidor**"
      ],
      "metadata": {
        "id": "bKwPm6b9UWLO"
      }
    },
    {
      "cell_type": "markdown",
      "source": [
        "## **Dependencias e Imports**"
      ],
      "metadata": {
        "id": "ppI-MaJoUejR"
      }
    },
    {
      "cell_type": "code",
      "source": [
        "%pip install flask\n",
        "%pip install flask-ngrok\n",
        "%pip install pyngrok==4.1.1\n",
        "\n",
        "from werkzeug.wrappers import Request\n",
        "from flask import Flask, request\n",
        "from flask_ngrok import run_with_ngrok \n",
        "\n",
        "from pyngrok import ngrok"
      ],
      "metadata": {
        "id": "XhEOBU14Qe1K"
      },
      "execution_count": null,
      "outputs": []
    },
    {
      "cell_type": "markdown",
      "source": [
        "## **Definición de la clase Server**"
      ],
      "metadata": {
        "id": "R8qpSAbwUrDR"
      }
    },
    {
      "cell_type": "code",
      "source": [
        "class Server:\n",
        "  app = Flask(__name__) \n",
        "\n",
        "  def __init__(self, model):\n",
        "    self.model = model\n",
        "\n",
        "    self.mount_server()\n",
        "\n",
        "  def mount_server(self):\n",
        "    ngrok.set_auth_token(\"25Pt1y3GT9JEnLudmofnYx6xvrS_2D2gZBpDpQGLhipQSfiHN\")\n",
        "    \n",
        "    run_with_ngrok(Server.app)\n",
        "\n",
        "    @Server.app.route(\"/\") \n",
        "    def home(): \n",
        "      return \"Servidor que ejecuta el modelo de GPT-J\"\n",
        "\n",
        "    @Server.app.route(\"/inferencia\", methods=[\"POST\"])\n",
        "    def inferencia():\n",
        "      json = request.get_json()\n",
        "      question = json[\"question\"]\n",
        "\n",
        "      response = self.model.inference(question)\n",
        "\n",
        "      print(response)\n",
        "\n",
        "      return response\n",
        "\n",
        "    @Server.app.route(\"/stop\", methods=[\"GET\", \"POST\"])\n",
        "    def stop():\n",
        "      print(\"Stopping server...\")\n",
        "      func = request.environ.get('werkzeug.server.shutdown')\n",
        "      func()\n",
        "      print(\"Server stopped\")\n",
        "\n",
        "      return \"Server stopped\"\n",
        "\n",
        "  def run(self):\n",
        "    Server.app.run()"
      ],
      "metadata": {
        "id": "LbnQQ-7ARk3n"
      },
      "execution_count": null,
      "outputs": []
    },
    {
      "cell_type": "markdown",
      "metadata": {
        "id": "kLzX_EPqAnEW"
      },
      "source": [
        "### Fine-tuning 6-Billion GPT-J in colab with LoRA and 8-bit compression\n",
        "\n",
        "This notebook is a proof of concept for fine-tuning [GPT-J-6B](https://huggingface.co/EleutherAI/gpt-j-6B) with limited memory. A detailed explanation of how it works can be found in [this model card](https://huggingface.co/hivemind/gpt-j-6B-8bit)."
      ]
    },
    {
      "cell_type": "markdown",
      "metadata": {
        "id": "GODiktIBFt4w"
      },
      "source": [
        "### Converting the model to 8 bits.\n",
        "\n",
        "We convert EleutherAI's GPT-J-6B model to 8 bits using facebook's [bitsandbytes](https://github.com/facebookresearch/bitsandbytes) library. This reduces the model's size from 20Gb down to just 6Gb.\n",
        "\n",
        "Note that we don't convert linear layer biases to 8 bit as they take up less that 1% of the model's weight anyway."
      ]
    },
    {
      "cell_type": "markdown",
      "source": [
        "# **Configuración servidor**"
      ],
      "metadata": {
        "id": "6hplOu8yUwsh"
      }
    },
    {
      "cell_type": "code",
      "source": [
        "#@markdown Seleccionar modelo:\n",
        "\n",
        "map = {\n",
        "    \"GPT-J-6B-8bit (Modelo base)\": {\n",
        "        \"tokenizer\": \"EleutherAI/gpt-j-6B\",\n",
        "        \"model\": \"hivemind/gpt-j-6B-8bit\"\n",
        "    }\n",
        "}\n",
        "\n",
        "model_type = 'GPT-J-6B-8bit (Modelo base)' #@param [\"GPT-J-6B-8bit (Modelo base)\"]\n",
        "\n",
        "\n",
        "pretrained_model_name = map[\"GPT-J-6B-8bit (Modelo base)\"][\"model\"]\n",
        "tokenizer_model_name = map[\"GPT-J-6B-8bit (Modelo base)\"][\"tokenizer\"]\n",
        "\n",
        "model = Model(pretrained_model_name, tokenizer_model_name)\n",
        "\n",
        "server = Server(model)\n",
        "\n",
        "######\n",
        "\n",
        "\"\"\"\n",
        "import ipywidgets as widgets\n",
        "\n",
        "button = widgets.Button(description=\"Stop server\")\n",
        "output = widgets.Output()\n",
        "display(button, output)\n",
        "\n",
        "def on_button_clicked(b):\n",
        "  with output:\n",
        "    print(\"Stopping server...\")\n",
        "    server.stop()\n",
        "\n",
        "button.on_click(on_button_clicked)\n",
        "\"\"\"\n",
        "\n",
        "######\n",
        "\n",
        "\n",
        "server.run()"
      ],
      "metadata": {
        "id": "sHDa3tZHk-J5",
        "cellView": "form"
      },
      "execution_count": null,
      "outputs": []
    }
  ],
  "metadata": {
    "accelerator": "TPU",
    "colab": {
      "collapsed_sections": [],
      "name": "finetune-gpt-j-6B-8bit.ipynb",
      "provenance": []
    },
    "kernelspec": {
      "display_name": "Python 3",
      "name": "python3"
    },
    "language_info": {
      "name": "python"
    }
  },
  "nbformat": 4,
  "nbformat_minor": 0
}